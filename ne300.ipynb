{
 "cells": [
  {
   "cell_type": "code",
   "execution_count": 1,
   "metadata": {},
   "outputs": [],
   "source": [
    "from inst.ne300 import NE300\n",
    "\n",
    "cfg = {'ne300': {\n",
    "            'type': 'NE300',\n",
    "            'serial_number': '23-0690',\n",
    "            'serial_id': '0',\n",
    "            'socket': {\n",
    "                'host': '192.168.0.52',\n",
    "                'port': 32783,\n",
    "                'timeout': 10,\n",
    "                'sleep': 0.5,\n",
    "                },\n",
    "            'get_config': '1',\n",
    "            'set_config': '',\n",
    "            'get_data': '',\n",
    "            'set_datetime': '',\n",
    "            'sampling_interval': '1',\n",
    "            'staging_zip': True,            \n",
    "            },\n",
    "        'reporting_interval': '10',\n",
    "        'logs': 'C:\\\\Users\\\\jkl/Documents/acoem/logs',\n",
    "        'data': 'C:\\\\Users\\\\jkl/Documents/acoem/data',\n",
    "        'staging': {\n",
    "            'path': 'C:\\\\Users\\\\jkl/Documents/acoem/staging', \n",
    "            },\n",
    "        }"
   ]
  },
  {
   "cell_type": "code",
   "execution_count": 2,
   "metadata": {},
   "outputs": [
    {
     "name": "stdout",
     "output_type": "stream",
     "text": [
      "# Initialize NE300 (name: ne300  S/N: 1234567890)\n"
     ]
    }
   ],
   "source": [
    "ne300 = NE300('ne300', cfg)"
   ]
  },
  {
   "cell_type": "code",
   "execution_count": 14,
   "metadata": {},
   "outputs": [
    {
     "name": "stdout",
     "output_type": "stream",
     "text": [
      "b'\\x0202\\x0300\\x03\\x04'\n"
     ]
    }
   ],
   "source": [
    "# send data using ACOEM protocol\n",
    "stx = chr(2).encode()\n",
    "__serial_id = r'0'.encode()\n",
    "cmd = r'2'.encode()\n",
    "etx = chr(3).encode()\n",
    "msb = r'0'.encode()\n",
    "lsb = r'0'.encode()\n",
    "chksum = bytes([a^b^c^d^e^f for a,b,c,d,e,f in zip(stx, __serial_id, cmd, etx, msb, lsb)]) \n",
    "eot = chr(4).encode()\n",
    "\n",
    "msg = (stx + __serial_id + cmd + etx + msb + lsb + chksum + eot)\n",
    "print(msg)"
   ]
  },
  {
   "cell_type": "code",
   "execution_count": 24,
   "metadata": {},
   "outputs": [
    {
     "name": "stdout",
     "output_type": "stream",
     "text": [
      "b'\\xff\\xfb\\x01\\xff\\xfe\\x01\\xff\\xfb\\x03'\n"
     ]
    }
   ],
   "source": [
    "import socket\n",
    "import time\n",
    "rcvd = b''\n",
    "# open socket connection as a client\n",
    "with socket.socket(socket.AF_INET, socket.SOCK_STREAM, ) as s:\n",
    "    # connect to the server\n",
    "    s.settimeout(5)\n",
    "    s.connect(('192.168.0.52', 32783))\n",
    "\n",
    "    s.sendall(msg)\n",
    "    time.sleep(0.5)\n",
    "\n",
    "    # receive response\n",
    "    while True:\n",
    "        try:\n",
    "            data = s.recv(1024)\n",
    "            rcvd = rcvd + data\n",
    "        except:\n",
    "            break\n",
    "\n",
    "print(rcvd)"
   ]
  }
 ],
 "metadata": {
  "kernelspec": {
   "display_name": "Python 3",
   "language": "python",
   "name": "python3"
  },
  "language_info": {
   "codemirror_mode": {
    "name": "ipython",
    "version": 3
   },
   "file_extension": ".py",
   "mimetype": "text/x-python",
   "name": "python",
   "nbconvert_exporter": "python",
   "pygments_lexer": "ipython3",
   "version": "3.11.1"
  }
 },
 "nbformat": 4,
 "nbformat_minor": 2
}
